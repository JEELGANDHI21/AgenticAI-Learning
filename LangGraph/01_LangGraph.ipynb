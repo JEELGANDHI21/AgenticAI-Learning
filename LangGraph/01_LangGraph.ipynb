{
 "cells": [
  {
   "cell_type": "code",
   "execution_count": 2,
   "id": "f8b8be1a",
   "metadata": {},
   "outputs": [],
   "source": [
    "import random\n",
    "from typing_extensions import TypedDict\n",
    "from typing import Literal\n",
    "from langgraph.graph import StateGraph, START, END"
   ]
  },
  {
   "cell_type": "code",
   "execution_count": 3,
   "id": "2dcb8083",
   "metadata": {},
   "outputs": [],
   "source": [
    "class State(TypedDict):\n",
    "    graph_state: str"
   ]
  },
  {
   "cell_type": "code",
   "execution_count": 4,
   "id": "b89abcd6",
   "metadata": {},
   "outputs": [],
   "source": [
    "# Node\n",
    "def node1(state):\n",
    "    print(\"---Node1---\")\n",
    "    return {\"graph_state\": state[\"graph_state\"] + \" I am\"}\n",
    "\n",
    "\n",
    "def node2(state):\n",
    "    print(\"---Node2---\")\n",
    "    return {\"graph_state\": state[\"graph_state\"] + \" happy!\"}\n",
    "\n",
    "\n",
    "def node3(state):\n",
    "    print(\"---Node3---\")\n",
    "    return {\"graph_state\": state[\"graph_state\"] + \" sad!\"}"
   ]
  },
  {
   "cell_type": "code",
   "execution_count": 5,
   "id": "1691b6a5",
   "metadata": {},
   "outputs": [],
   "source": [
    "# Edge\n",
    "def decide_mood(state) -> Literal[\"node_2\", \"node_3\"]:\n",
    "    user_input = state[\"graph_state\"]\n",
    "\n",
    "    if random.random() < 0.5:\n",
    "        return \"node_2\"\n",
    "\n",
    "    return \"node_3\""
   ]
  },
  {
   "cell_type": "code",
   "execution_count": 6,
   "id": "6be142f7",
   "metadata": {},
   "outputs": [
    {
     "name": "stdout",
     "output_type": "stream",
     "text": [
      "---Node1---\n",
      "---Node2---\n",
      "Result {'graph_state': 'I am Jeel. I am happy!'}\n"
     ]
    }
   ],
   "source": [
    "# Build graph\n",
    "\n",
    "builder = StateGraph(State)\n",
    "builder.add_node(\"node_1\", node1)\n",
    "builder.add_node(\"node_2\", node2)\n",
    "builder.add_node(\"node_3\", node3)\n",
    "\n",
    "builder.add_edge(START, \"node_1\")\n",
    "builder.add_conditional_edges(\"node_1\", decide_mood)\n",
    "builder.add_edge(\"node_2\", END)\n",
    "builder.add_edge(\"node_3\", END)\n",
    "\n",
    "graph = builder.compile()\n",
    "\n",
    "result = graph.invoke({\"graph_state\": \"I am Jeel.\"})\n",
    "print(\"Result\", result)"
   ]
  }
 ],
 "metadata": {
  "kernelspec": {
   "display_name": ".venv",
   "language": "python",
   "name": "python3"
  },
  "language_info": {
   "codemirror_mode": {
    "name": "ipython",
    "version": 3
   },
   "file_extension": ".py",
   "mimetype": "text/x-python",
   "name": "python",
   "nbconvert_exporter": "python",
   "pygments_lexer": "ipython3",
   "version": "3.12.5"
  }
 },
 "nbformat": 4,
 "nbformat_minor": 5
}
